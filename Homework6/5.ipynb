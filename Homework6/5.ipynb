{
 "cells": [
  {
   "cell_type": "code",
   "execution_count": 1,
   "metadata": {},
   "outputs": [
    {
     "name": "stdout",
     "output_type": "stream",
     "text": [
      "已知项目是由JavaScript语言编写的情况下，该项目是工具组件型项目的概率是：0.7778\n"
     ]
    }
   ],
   "source": [
    "# 定义已知概率\n",
    "P_T = 0.50  # 工具组件型项目的概率\n",
    "P_not_T = 0.50  # 非工具组件型项目的概率\n",
    "P_J_given_T = 0.35  # 工具组件型项目使用JavaScript的概率\n",
    "P_J_given_not_T = 0.10  # 非工具组件型项目使用JavaScript的概率\n",
    "\n",
    "# 计算使用JavaScript的总概率P(J)\n",
    "P_J = (P_J_given_T * P_T) + (P_J_given_not_T * P_not_T)\n",
    "\n",
    "# 使用贝叶斯定理计算P(T|J)\n",
    "P_T_given_J = (P_J_given_T * P_T) / P_J\n",
    "\n",
    "# 输出结果\n",
    "print(f\"已知项目是由JavaScript语言编写的情况下，该项目是工具组件型项目的概率是：{P_T_given_J:.4f}\")"
   ]
  }
 ],
 "metadata": {
  "kernelspec": {
   "display_name": "base",
   "language": "python",
   "name": "python3"
  },
  "language_info": {
   "codemirror_mode": {
    "name": "ipython",
    "version": 3
   },
   "file_extension": ".py",
   "mimetype": "text/x-python",
   "name": "python",
   "nbconvert_exporter": "python",
   "pygments_lexer": "ipython3",
   "version": "3.11.7"
  }
 },
 "nbformat": 4,
 "nbformat_minor": 2
}
