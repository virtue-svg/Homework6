{
 "cells": [
  {
   "cell_type": "code",
   "execution_count": null,
   "metadata": {},
   "outputs": [
    {
     "name": "stdout",
     "output_type": "stream",
     "text": [
      "最大值: 1394.45\n",
      "最小值: 200.68\n",
      "均值: 346.97\n",
      "中位数: 273.67\n"
     ]
    }
   ],
   "source": [
    "import csv\n",
    "import statistics\n",
    "# 初始化一个空列表，用于存放前100个项目的'value'值\n",
    "top_100_values = []\n",
    "# 读取openrank数据集\n",
    "with open('open_rank_20236.csv','r')as file:\n",
    "    # 使用csv模块的DictReader类：它会将标题行作为字段名，并将剩余行转换成由多个键值对组成的字典形式\n",
    "    # 其中键为字段名，值是对应的数据\n",
    "    # 如第一行会转换成：'item':home-assistant/core, 'rank':1, 'value':1394.45, 'rankdelta':0, 'valuedelta':-23.01\n",
    "    reader = csv.DictReader(file)\n",
    "    # 遍历每行数据\n",
    "    for row in reader:\n",
    "        # 从当前行的字典中提取'value'的值，转换成浮点数，并添加到列表中\n",
    "        value = float(row['value'])\n",
    "        top_100_values.append(value)\n",
    "\n",
    "# 利用函数计算所有value中的最大值、最小值、均值和中位数\n",
    "max_value = max(top_100_values)\n",
    "min_value = min(top_100_values)\n",
    "mean_value = statistics.mean(top_100_values)\n",
    "median_value = statistics.median(top_100_values)\n",
    "# 打印结果\n",
    "print(f\"最大值: {max_value}\")\n",
    "print(f\"最小值: {min_value}\")\n",
    "print(f\"均值: {mean_value:.2f}\")\n",
    "print(f\"中位数: {median_value:.2f}\")\n",
    "\n"
   ]
  },
  {
   "cell_type": "code",
   "execution_count": 4,
   "metadata": {},
   "outputs": [
    {
     "name": "stdout",
     "output_type": "stream",
     "text": [
      "最大值: 1394.45\n",
      "最小值: 200.68\n",
      "均值: 346.97\n",
      "中位数: 273.67\n"
     ]
    }
   ],
   "source": [
    "import pandas as pd\n",
    "\n",
    "# 使用pandas读取CSV文件，这通常比csv模块更快，特别是在处理大型数据集时\n",
    "df = pd.read_csv('open_rank_20236.csv')\n",
    "\n",
    "# 使用列表推导式直接从DataFrame中提取value列，并转换为浮点数\n",
    "top_100_values = [float(value) for value in df['value'].head(100)]\n",
    "\n",
    "# 计算最大值、最小值、均值和中位数\n",
    "# 使用numpy库来计算均值和中位数，这比statistics库更快，尤其是在大数据集上\n",
    "import numpy as np\n",
    "max_value = max(top_100_values)\n",
    "min_value = min(top_100_values)\n",
    "mean_value = np.mean(top_100_values)\n",
    "median_value = np.median(top_100_values)\n",
    "\n",
    "# 打印结果\n",
    "print(f\"最大值: {max_value}\")\n",
    "print(f\"最小值: {min_value}\")\n",
    "print(f\"均值: {mean_value:.2f}\")\n",
    "print(f\"中位数: {median_value:.2f}\")"
   ]
  }
 ],
 "metadata": {
  "kernelspec": {
   "display_name": "Python 3",
   "language": "python",
   "name": "python3"
  },
  "language_info": {
   "codemirror_mode": {
    "name": "ipython",
    "version": 3
   },
   "file_extension": ".py",
   "mimetype": "text/x-python",
   "name": "python",
   "nbconvert_exporter": "python",
   "pygments_lexer": "ipython3",
   "version": "3.11.7"
  }
 },
 "nbformat": 4,
 "nbformat_minor": 2
}
