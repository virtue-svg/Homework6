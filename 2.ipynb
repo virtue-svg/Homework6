{
 "cells": [
  {
   "cell_type": "code",
   "execution_count": 3,
   "metadata": {},
   "outputs": [
    {
     "name": "stdout",
     "output_type": "stream",
     "text": [
      "美国排名前十的项目的平均增长率为-4.74%\n"
     ]
    }
   ],
   "source": [
    "import csv\n",
    "# 初始化一个空字典，用于存放文件中每个项目的值\n",
    "# 键为项目的'repo'名称，值为另一个字典，包含该项目每个月的数值\n",
    "projects_data = {}\n",
    "\n",
    "with open('activity_2022.csv','r')as file:\n",
    "    reader = csv.DictReader(file)\n",
    "    for row in reader:\n",
    "        # 将每行的'repo'对应值提取出来，以作为新字典的键\n",
    "        repo = row['repo']\n",
    "        # 将其余值全部提取出来，放在新字典的键中\n",
    "        projects_data[repo] = {\n",
    "            '20221_value': float(row['20221_value']),\n",
    "            '20222_value': float(row['20222_value']),\n",
    "            '20223_value': float(row['20223_value']),\n",
    "            '20224_value': float(row['20224_value']),\n",
    "            '20225_value': float(row['20225_value']),\n",
    "            '20226_value': float(row['20226_value']),\n",
    "            '20227_value': float(row['20227_value']),\n",
    "            '20228_value': float(row['20228_value']),\n",
    "            '20229_value': float(row['20229_value']),\n",
    "            '202210_value': float(row['202210_value']),\n",
    "            '202211_value': float(row['202211_value']),\n",
    "            '202212_value': float(row['202212_value']),\n",
    "        }\n",
    "# 初始化一个空列表，用于存放各个项目的增长率\n",
    "growth_rates = []\n",
    "\n",
    "# 遍历每个项目的数据，计算对应的增长率，并将增长率添加到列表中\n",
    "for project, values in projects_data.items():\n",
    "    # 获取项目在年初（2022年1月）和年末（2022年12月）的数值\n",
    "    initial_value = values['20221_value']\n",
    "    final_value = values['202212_value']\n",
    "    # 计算增长率：(年末值 - 年初值) / 年初值 * 100\n",
    "    growth_rate = (final_value - initial_value) / initial_value * 100\n",
    "    growth_rates.append(growth_rate)\n",
    "\n",
    "# 计算平均增长率\n",
    "average_growth_rate = sum(growth_rates) / len(growth_rates)\n",
    "\n",
    "# 打印平均增长率，格式化为保留两位小数的百分比\n",
    "print(f\"美国排名前十的项目的平均增长率为{average_growth_rate:.2f}%\")\n"
   ]
  },
  {
   "cell_type": "code",
   "execution_count": 4,
   "metadata": {},
   "outputs": [
    {
     "name": "stdout",
     "output_type": "stream",
     "text": [
      "美国排名前十的项目的平均增长率为-4.74%\n"
     ]
    }
   ],
   "source": [
    "import pandas as pd\n",
    "\n",
    "# 使用pandas读取CSV文件\n",
    "df = pd.read_csv('activity_2022.csv')\n",
    "\n",
    "# 创造一个新列，计算每个项目的增长率\n",
    "df['growth_rate'] = ((df['202212_value'] - df['20221_value']) / df['20221_value']) * 100\n",
    "\n",
    "# 计算平均增长率\n",
    "average_growth_rate = df['growth_rate'].mean()\n",
    "\n",
    "# 打印平均增长率\n",
    "print(f\"美国排名前十的项目的平均增长率为{average_growth_rate:.2f}%\")"
   ]
  }
 ],
 "metadata": {
  "kernelspec": {
   "display_name": "base",
   "language": "python",
   "name": "python3"
  },
  "language_info": {
   "codemirror_mode": {
    "name": "ipython",
    "version": 3
   },
   "file_extension": ".py",
   "mimetype": "text/x-python",
   "name": "python",
   "nbconvert_exporter": "python",
   "pygments_lexer": "ipython3",
   "version": "3.11.7"
  }
 },
 "nbformat": 4,
 "nbformat_minor": 2
}
