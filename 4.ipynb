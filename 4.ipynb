{
 "cells": [
  {
   "cell_type": "code",
   "execution_count": 1,
   "metadata": {},
   "outputs": [
    {
     "name": "stdout",
     "output_type": "stream",
     "text": [
      "已知项目带有HTML/Markdown标签的情况下，该项目是非软件类项目的概率是：0.7391\n"
     ]
    }
   ],
   "source": [
    "# 定义已知概率\n",
    "P_A = 0.25  # 非软件类项目的概率\n",
    "P_not_A = 0.75  # 软件类项目的概率\n",
    "P_B_given_A = 0.85  # 非软件类项目带有HTML/Markdown标签的概率\n",
    "P_B_given_not_A = 0.10  # 软件类项目带有HTML/Markdown标签的概率\n",
    "\n",
    "# 计算带有HTML/Markdown标签的总概率P(B)\n",
    "P_B = (P_B_given_A * P_A) + (P_B_given_not_A * P_not_A)\n",
    "\n",
    "# 使用贝叶斯定理计算P(A|B)\n",
    "P_A_given_B = (P_B_given_A * P_A) / P_B\n",
    "\n",
    "# 输出结果\n",
    "print(f\"已知项目带有HTML/Markdown标签的情况下，该项目是非软件类项目的概率是：{P_A_given_B:.4f}\")"
   ]
  }
 ],
 "metadata": {
  "kernelspec": {
   "display_name": "base",
   "language": "python",
   "name": "python3"
  },
  "language_info": {
   "codemirror_mode": {
    "name": "ipython",
    "version": 3
   },
   "file_extension": ".py",
   "mimetype": "text/x-python",
   "name": "python",
   "nbconvert_exporter": "python",
   "pygments_lexer": "ipython3",
   "version": "3.11.7"
  }
 },
 "nbformat": 4,
 "nbformat_minor": 2
}
